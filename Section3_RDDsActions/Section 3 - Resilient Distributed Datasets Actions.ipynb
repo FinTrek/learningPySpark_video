{
 "cells": [
  {
   "cell_type": "markdown",
   "metadata": {},
   "source": [
    "# Learning PySpark \n",
    "### Video series\n",
    "\n",
    "### Packt Publishing\n",
    "\n",
    "**Author**: Tomasz Drabas\n",
    "**Date**:   2017-12-10\n",
    "\n",
    "\n",
    "\n",
    "\n",
    "\n",
    "# Section 3: Resilient Distributed Datasets - Actions\n",
    "\n",
    "In this section we will look at the Resilient Distributed Datasets (RDDs) and the actions available.\n",
    "\n",
    "## Read in the data"
   ]
  },
  {
   "cell_type": "code",
   "execution_count": 2,
   "metadata": {},
   "outputs": [],
   "source": [
    "import datetime as dt\n",
    "\n",
    "def parseCSVRow(inputRow):\n",
    "    try:\n",
    "        rowSplit = inputRow.split(',')\n",
    "        rowSplit[0] = dt.datetime.strptime(rowSplit[0], '%m/%d/%y')\n",
    "        rowSplit[4] = int(rowSplit[4])\n",
    "        \n",
    "        for i in [5,6]:\n",
    "            rowSplit[i] = float(rowSplit[i])\n",
    "        \n",
    "        return [rowSplit]\n",
    "    except:\n",
    "        return []\n",
    "\n",
    "rdd_clean = sc.textFile('../data/sample_data.csv', 4) \\\n",
    "    .flatMap(parseCSVRow)"
   ]
  },
  {
   "cell_type": "markdown",
   "metadata": {},
   "source": [
    "## .take(...) action"
   ]
  },
  {
   "cell_type": "code",
   "execution_count": 3,
   "metadata": {},
   "outputs": [
    {
     "name": "stdout",
     "output_type": "stream",
     "text": [
      "[[datetime.datetime(2016, 1, 6, 0, 0), 'East', 'Jones', 'Pencil', 95, 1.99, 189.05], [datetime.datetime(2016, 2, 9, 0, 0), 'Central', 'Jardine', 'Pencil', 36, 4.99, 179.64]]"
     ]
    }
   ],
   "source": [
    "rdd_clean.take(2)"
   ]
  },
  {
   "cell_type": "code",
   "execution_count": 4,
   "metadata": {},
   "outputs": [
    {
     "name": "stdout",
     "output_type": "stream",
     "text": [
      "[datetime.datetime(2016, 1, 6, 0, 0), 'East', 'Jones', 'Pencil', 95, 1.99, 189.05]\n",
      "[datetime.datetime(2016, 2, 9, 0, 0), 'Central', 'Jardine', 'Pencil', 36, 4.99, 179.64]\n",
      "[datetime.datetime(2016, 2, 26, 0, 0), 'Central', 'Gill', 'Pen', 27, 19.99, 539.73]\n",
      "[datetime.datetime(2016, 3, 15, 0, 0), 'West', 'Sorvino', 'Pencil', 56, 2.99, 167.44]\n",
      "[datetime.datetime(2016, 4, 1, 0, 0), 'East', 'Jones', 'Binder', 60, 4.99, 299.4]"
     ]
    }
   ],
   "source": [
    "for element in rdd_clean.takeOrdered(5, key = lambda el: el[0]):\n",
    "    print(element)"
   ]
  },
  {
   "cell_type": "code",
   "execution_count": 5,
   "metadata": {},
   "outputs": [
    {
     "name": "stdout",
     "output_type": "stream",
     "text": [
      "[datetime.datetime(2017, 8, 7, 0, 0), 'Central', 'Kivell', 'Pen Set', 42, 23.95, 1005.9]\n",
      "[datetime.datetime(2016, 6, 25, 0, 0), 'Central', 'Morgan', 'Pencil', 90, 4.99, 449.1]\n",
      "[datetime.datetime(2016, 9, 1, 0, 0), 'Central', 'Smith', 'Desk', 2, 125.0, 250.0]\n",
      "[datetime.datetime(2017, 4, 10, 0, 0), 'Central', 'Andrews', 'Pencil', 66, 1.99, 131.34]\n",
      "[datetime.datetime(2016, 5, 22, 0, 0), 'West', 'Thompson', 'Pencil', 32, 1.99, 63.68]"
     ]
    }
   ],
   "source": [
    "for element in rdd_clean.takeSample(False, 5, seed=666):\n",
    "    print(element)"
   ]
  },
  {
   "cell_type": "markdown",
   "metadata": {},
   "source": [
    "## .collect(...) action"
   ]
  },
  {
   "cell_type": "code",
   "execution_count": 6,
   "metadata": {},
   "outputs": [
    {
     "name": "stdout",
     "output_type": "stream",
     "text": [
      "True"
     ]
    }
   ],
   "source": [
    "len(rdd_clean.collect()) == rdd_clean.count()"
   ]
  },
  {
   "cell_type": "code",
   "execution_count": 7,
   "metadata": {},
   "outputs": [
    {
     "name": "stdout",
     "output_type": "stream",
     "text": [
      "[datetime.datetime(2016, 7, 29, 0, 0), 'East', 'Parent', 'Binder', 81, 19.99, 1619.19]\n",
      "[datetime.datetime(2016, 12, 29, 0, 0), 'East', 'Parent', 'Pen Set', 74, 15.99, 1183.26]\n",
      "[datetime.datetime(2017, 2, 1, 0, 0), 'Central', 'Smith', 'Binder', 87, 15.0, 1305.0]\n",
      "[datetime.datetime(2017, 8, 7, 0, 0), 'Central', 'Kivell', 'Pen Set', 42, 23.95, 1005.9]\n",
      "[datetime.datetime(2017, 10, 14, 0, 0), 'West', 'Thompson', 'Binder', 57, 19.99, 1139.43]\n",
      "[datetime.datetime(2017, 12, 4, 0, 0), 'Central', 'Jardine', 'Binder', 94, 19.99, 1879.06]"
     ]
    }
   ],
   "source": [
    "for element in rdd_clean.filter(lambda el: el[-1] > 1000).collect():\n",
    "    print(element)"
   ]
  },
  {
   "cell_type": "markdown",
   "metadata": {},
   "source": [
    "## .reduce(...) action"
   ]
  },
  {
   "cell_type": "code",
   "execution_count": 8,
   "metadata": {},
   "outputs": [
    {
     "name": "stdout",
     "output_type": "stream",
     "text": [
      "18628.38"
     ]
    }
   ],
   "source": [
    "from operator import add\n",
    "\n",
    "total_value = rdd_clean \\\n",
    "    .map(lambda el: el[-1]) \\\n",
    "    .reduce(add)\n",
    "    \n",
    "total_value"
   ]
  },
  {
   "cell_type": "code",
   "execution_count": 9,
   "metadata": {},
   "outputs": [
    {
     "name": "stdout",
     "output_type": "stream",
     "text": [
      "18628.38"
     ]
    }
   ],
   "source": [
    "total_value = rdd_clean \\\n",
    "    .map(lambda el: el[-1]) \\\n",
    "    .reduce(lambda x, y: x + y)\n",
    "\n",
    "total_value"
   ]
  },
  {
   "cell_type": "markdown",
   "metadata": {},
   "source": [
    "## .reduceByKey(...) action"
   ]
  },
  {
   "cell_type": "code",
   "execution_count": 10,
   "metadata": {},
   "outputs": [
    {
     "name": "stdout",
     "output_type": "stream",
     "text": [
      "('East', 6002.090000000001)\n",
      "('Central', 10139.57)\n",
      "('West', 2486.7200000000003)"
     ]
    }
   ],
   "source": [
    "sales_by_region = rdd_clean \\\n",
    "    .map(lambda el: (el[1], el[-1])) \\\n",
    "    .reduceByKey(lambda x, y: x + y)\n",
    "    \n",
    "for element in sales_by_region.collect():\n",
    "    print(element)"
   ]
  },
  {
   "cell_type": "markdown",
   "metadata": {},
   "source": [
    "## .count() action"
   ]
  },
  {
   "cell_type": "code",
   "execution_count": 11,
   "metadata": {},
   "outputs": [
    {
     "name": "stdout",
     "output_type": "stream",
     "text": [
      "42"
     ]
    }
   ],
   "source": [
    "rdd_clean.count()"
   ]
  },
  {
   "cell_type": "code",
   "execution_count": 12,
   "metadata": {},
   "outputs": [
    {
     "name": "stdout",
     "output_type": "stream",
     "text": [
      "42"
     ]
    }
   ],
   "source": [
    "rdd_clean.countApprox(10, confidence=0.9)"
   ]
  },
  {
   "cell_type": "code",
   "execution_count": 13,
   "metadata": {},
   "outputs": [
    {
     "name": "stdout",
     "output_type": "stream",
     "text": [
      "11"
     ]
    }
   ],
   "source": [
    "sales = rdd_clean \\\n",
    "    .map(lambda el: el[2])\n",
    "\n",
    "sales.countApproxDistinct()"
   ]
  },
  {
   "cell_type": "code",
   "execution_count": 14,
   "metadata": {},
   "outputs": [
    {
     "name": "stdout",
     "output_type": "stream",
     "text": [
      "['Jardine', 'Gill', 'Smith', 'Howard', 'Thompson', 'Jones', 'Sorvino', 'Andrews', 'Morgan', 'Parent', 'Kivell']"
     ]
    }
   ],
   "source": [
    "distinct_sales = sales.distinct()\n",
    "distinct_sales.collect()"
   ]
  },
  {
   "cell_type": "code",
   "execution_count": 15,
   "metadata": {},
   "outputs": [
    {
     "name": "stdout",
     "output_type": "stream",
     "text": [
      "11"
     ]
    }
   ],
   "source": [
    "sales.distinct().count()"
   ]
  },
  {
   "cell_type": "markdown",
   "metadata": {},
   "source": [
    "## .foreach(...) action"
   ]
  },
  {
   "cell_type": "code",
   "execution_count": 16,
   "metadata": {
    "collapsed": true
   },
   "outputs": [],
   "source": [
    "distinct_sales.foreach(print)"
   ]
  },
  {
   "cell_type": "markdown",
   "metadata": {},
   "source": [
    "## .aggregate(...) action"
   ]
  },
  {
   "cell_type": "code",
   "execution_count": 17,
   "metadata": {},
   "outputs": [
    {
     "name": "stdout",
     "output_type": "stream",
     "text": [
      "(18628.38, 42)"
     ]
    }
   ],
   "source": [
    "seqOp =  (lambda x, y: (x[0] + y,    x[1] + 1))\n",
    "combOp = (lambda x, y: (x[0] + y[0], x[1] + y[1]))\n",
    "\n",
    "rdd_clean \\\n",
    "    .map(lambda el: el[-1]) \\\n",
    "    .aggregate((0.0,0), seqOp, combOp)"
   ]
  },
  {
   "cell_type": "markdown",
   "metadata": {},
   "source": [
    "## .aggregateByKey(...) action"
   ]
  },
  {
   "cell_type": "code",
   "execution_count": 18,
   "metadata": {},
   "outputs": [
    {
     "name": "stdout",
     "output_type": "stream",
     "text": [
      "('Jardine', 2812.19, 5, 562.438)\n",
      "('Gill', 1749.8700000000001, 5, 349.97400000000005)\n",
      "('Smith', 1641.43, 3, 547.1433333333333)\n",
      "('Howard', 536.75, 2, 268.375)\n",
      "('Thompson', 1203.1100000000001, 2, 601.5550000000001)\n",
      "('Jones', 2363.04, 8, 295.38)\n",
      "('Sorvino', 1283.6100000000001, 4, 320.90250000000003)\n",
      "('Andrews', 438.37, 4, 109.5925)\n",
      "('Morgan', 1387.77, 3, 462.59)\n",
      "('Parent', 3102.3, 3, 1034.1000000000001)\n",
      "('Kivell', 2109.94, 3, 703.3133333333334)"
     ]
    }
   ],
   "source": [
    "seqOp =  (lambda x, y: (x[0] + y[0], x[1] + 1))\n",
    "combOp = (lambda x, y: (x[0] + y[0], x[1] + y[1]))\n",
    "\n",
    "for element in rdd_clean \\\n",
    "    .map(lambda el: (el[2], (el[-1], 1))) \\\n",
    "    .aggregateByKey((0.0, 0), seqOp, combOp) \\\n",
    "    .map(lambda el: (el[0], el[1][0], el[1][1], el[1][0] / el[1][1])) \\\n",
    "    .collect():\n",
    "        print(element)"
   ]
  },
  {
   "cell_type": "markdown",
   "metadata": {},
   "source": [
    "## .coalesce(...) action"
   ]
  },
  {
   "cell_type": "code",
   "execution_count": 19,
   "metadata": {},
   "outputs": [
    {
     "name": "stdout",
     "output_type": "stream",
     "text": [
      "4"
     ]
    }
   ],
   "source": [
    "rdd_clean.getNumPartitions()"
   ]
  },
  {
   "cell_type": "code",
   "execution_count": 21,
   "metadata": {},
   "outputs": [
    {
     "name": "stdout",
     "output_type": "stream",
     "text": [
      "4"
     ]
    }
   ],
   "source": [
    "len(rdd_clean.glom().collect())"
   ]
  },
  {
   "cell_type": "code",
   "execution_count": 23,
   "metadata": {},
   "outputs": [
    {
     "name": "stdout",
     "output_type": "stream",
     "text": [
      "1"
     ]
    }
   ],
   "source": [
    "len(rdd_clean.coalesce(1).glom().collect())"
   ]
  },
  {
   "cell_type": "code",
   "execution_count": 24,
   "metadata": {},
   "outputs": [
    {
     "name": "stdout",
     "output_type": "stream",
     "text": [
      "[[datetime.datetime(2016, 1, 6, 0, 0), 'East', 'Jones', 'Pencil', 95, 1.99, 189.05], [datetime.datetime(2016, 2, 9, 0, 0), 'Central', 'Jardine', 'Pencil', 36, 4.99, 179.64], [datetime.datetime(2016, 2, 26, 0, 0), 'Central', 'Gill', 'Pen', 27, 19.99, 539.73], [datetime.datetime(2016, 3, 15, 0, 0), 'West', 'Sorvino', 'Pencil', 56, 2.99, 167.44], [datetime.datetime(2016, 4, 1, 0, 0), 'East', 'Jones', 'Binder', 60, 4.99, 299.4], [datetime.datetime(2016, 4, 18, 0, 0), 'Central', 'Andrews', 'Pencil', 75, 1.99, 149.25], [datetime.datetime(2016, 5, 5, 0, 0), 'Central', 'Jardine', 'Pencil', 90, 4.99, 449.1], [datetime.datetime(2016, 5, 22, 0, 0), 'West', 'Thompson', 'Pencil', 32, 1.99, 63.68], [datetime.datetime(2016, 6, 8, 0, 0), 'East', 'Jones', 'Binder', 60, 8.99, 539.4], [datetime.datetime(2016, 6, 25, 0, 0), 'Central', 'Morgan', 'Pencil', 90, 4.99, 449.1], [datetime.datetime(2016, 7, 12, 0, 0), 'East', 'Howard', 'Binder', 29, 1.99, 57.71], [datetime.datetime(2016, 7, 29, 0, 0), 'East', 'Parent', 'Binder', 81, 19.99, 1619.19], [datetime.datetime(2016, 8, 15, 0, 0), 'East', 'Jones', 'Pencil', 35, 4.99, 174.65], [datetime.datetime(2016, 9, 1, 0, 0), 'Central', 'Smith', 'Desk', 2, 125.0, 250.0], [datetime.datetime(2016, 9, 18, 0, 0), 'East', 'Jones', 'Pen Set', 16, 15.99, 255.84], [datetime.datetime(2016, 10, 5, 0, 0), 'Central', 'Morgan', 'Binder', 28, 8.99, 251.72], [datetime.datetime(2016, 10, 22, 0, 0), 'East', 'Jones', 'Pen', 64, 8.99, 575.36], [datetime.datetime(2016, 11, 8, 0, 0), 'East', 'Parent', 'Pen', 15, 19.99, 299.85], [datetime.datetime(2016, 11, 25, 0, 0), 'Central', 'Kivell', 'Pen Set', 96, 4.99, 479.04], [datetime.datetime(2016, 12, 12, 0, 0), 'Central', 'Smith', 'Pencil', 67, 1.29, 86.43], [datetime.datetime(2016, 12, 29, 0, 0), 'East', 'Parent', 'Pen Set', 74, 15.99, 1183.26], [datetime.datetime(2017, 1, 15, 0, 0), 'Central', 'Gill', 'Binder', 46, 8.99, 413.54], [datetime.datetime(2017, 2, 1, 0, 0), 'Central', 'Smith', 'Binder', 87, 15.0, 1305.0], [datetime.datetime(2017, 2, 18, 0, 0), 'East', 'Jones', 'Binder', 4, 4.99, 19.96], [datetime.datetime(2017, 3, 7, 0, 0), 'West', 'Sorvino', 'Binder', 7, 19.99, 139.93], [datetime.datetime(2017, 3, 24, 0, 0), 'Central', 'Jardine', 'Pen Set', 50, 4.99, 249.5], [datetime.datetime(2017, 4, 10, 0, 0), 'Central', 'Andrews', 'Pencil', 66, 1.99, 131.34], [datetime.datetime(2017, 4, 27, 0, 0), 'East', 'Howard', 'Pen', 96, 4.99, 479.04], [datetime.datetime(2017, 5, 14, 0, 0), 'Central', 'Gill', 'Pencil', 53, 1.29, 68.37], [datetime.datetime(2017, 5, 31, 0, 0), 'Central', 'Gill', 'Binder', 80, 8.99, 719.2], [datetime.datetime(2017, 6, 17, 0, 0), 'Central', 'Kivell', 'Desk', 5, 125.0, 625.0], [datetime.datetime(2017, 7, 4, 0, 0), 'East', 'Jones', 'Pen Set', 62, 4.99, 309.38], [datetime.datetime(2017, 7, 21, 0, 0), 'Central', 'Morgan', 'Pen Set', 55, 12.49, 686.95], [datetime.datetime(2017, 8, 7, 0, 0), 'Central', 'Kivell', 'Pen Set', 42, 23.95, 1005.9], [datetime.datetime(2017, 8, 24, 0, 0), 'West', 'Sorvino', 'Desk', 3, 275.0, 825.0], [datetime.datetime(2017, 9, 10, 0, 0), 'Central', 'Gill', 'Pencil', 7, 1.29, 9.03], [datetime.datetime(2017, 9, 27, 0, 0), 'West', 'Sorvino', 'Pen', 76, 1.99, 151.24], [datetime.datetime(2017, 10, 14, 0, 0), 'West', 'Thompson', 'Binder', 57, 19.99, 1139.43], [datetime.datetime(2017, 10, 31, 0, 0), 'Central', 'Andrews', 'Pencil', 14, 1.29, 18.06], [datetime.datetime(2017, 11, 17, 0, 0), 'Central', 'Jardine', 'Binder', 11, 4.99, 54.89], [datetime.datetime(2017, 12, 4, 0, 0), 'Central', 'Jardine', 'Binder', 94, 19.99, 1879.06], [datetime.datetime(2017, 12, 21, 0, 0), 'Central', 'Andrews', 'Binder', 28, 4.99, 139.72]]"
     ]
    }
   ],
   "source": [
    "rdd_clean.coalesce(1).collect()"
   ]
  },
  {
   "cell_type": "markdown",
   "metadata": {},
   "source": [
    "## .combineByKey(...) action"
   ]
  },
  {
   "cell_type": "code",
   "execution_count": 99,
   "metadata": {},
   "outputs": [
    {
     "name": "stdout",
     "output_type": "stream",
     "text": [
      "('Jardine', ('Central', 1879.06))\n",
      "('Gill', ('Central', 719.2))\n",
      "('Smith', ('Central', 1305.0))\n",
      "('Howard', ('East', 479.04))\n",
      "('Thompson', ('West', 1139.43))\n",
      "('Jones', ('East', 575.36))\n",
      "('Sorvino', ('West', 825.0))\n",
      "('Andrews', ('Central', 149.25))\n",
      "('Morgan', ('Central', 686.95))\n",
      "('Parent', ('East', 1619.19))\n",
      "('Kivell', ('Central', 1005.9))"
     ]
    }
   ],
   "source": [
    "for element in rdd_clean \\\n",
    "    .map(lambda el: (el[2], (el[1], el[-1]))) \\\n",
    "    .groupByKey() \\\n",
    "    .mapValues(list)\\\n",
    "    .map(lambda el: (el[0], max(el[1], key=lambda m: m[1]))) \\\n",
    "    .collect():\n",
    "        print(element)"
   ]
  },
  {
   "cell_type": "markdown",
   "metadata": {},
   "source": [
    "With `groupByKey` there's no combiner working on the executors -- everything is sent to a single reducer. CombineByKey runs a local appendByKey "
   ]
  },
  {
   "cell_type": "code",
   "execution_count": 98,
   "metadata": {},
   "outputs": [
    {
     "name": "stdout",
     "output_type": "stream",
     "text": [
      "('Jardine', ('2017-12', 1879.06))\n",
      "('Gill', ('2017-05', 719.2))\n",
      "('Smith', ('2017-02', 1305.0))\n",
      "('Howard', ('2017-04', 479.04))\n",
      "('Thompson', ('2017-10', 1139.43))\n",
      "('Jones', ('2016-10', 575.36))\n",
      "('Sorvino', ('2017-08', 825.0))\n",
      "('Andrews', ('2016-04', 149.25))\n",
      "('Morgan', ('2017-07', 686.95))\n",
      "('Parent', ('2016-07', 1619.19))\n",
      "('Kivell', ('2017-08', 1005.9))"
     ]
    }
   ],
   "source": [
    "def combiner(element):\n",
    "    return [element]\n",
    "\n",
    "def append(element1, element2):\n",
    "    element1.append(element2)\n",
    "    return element1\n",
    "\n",
    "def extend(element1, element2):\n",
    "    element1.extend(element2)\n",
    "    return element1\n",
    "\n",
    "for element in rdd_clean \\\n",
    "    .map(lambda el: (el[2], (el[0].strftime('%Y-%m'), el[-1]))) \\\n",
    "    .combineByKey(combiner, append, extend) \\\n",
    "    .map(lambda el: (el[0], max(el[1], key=lambda m: m[1]))) \\\n",
    "    .collect():\n",
    "        print(element)"
   ]
  },
  {
   "cell_type": "markdown",
   "metadata": {},
   "source": [
    "## .histogram(...) action"
   ]
  },
  {
   "cell_type": "code",
   "execution_count": 125,
   "metadata": {},
   "outputs": [
    {
     "name": "stdout",
     "output_type": "stream",
     "text": [
      "[(9.0, 17), (196.0, 7), (383.0, 7), (570.0, 4), (757.0, 1), (944.0, 1), (1131.0, 3), (1318.0, 0), (1505.0, 1), (1692.0, 1)]"
     ]
    }
   ],
   "source": [
    "hist = rdd_clean \\\n",
    "    .map(lambda el: el[-1]) \\\n",
    "    .histogram(10)\n",
    "\n",
    "\n",
    "\n",
    "[(round(b, 0), v) for b, v in zip(hist[0], hist[1])]"
   ]
  },
  {
   "cell_type": "markdown",
   "metadata": {},
   "source": [
    "## Sorting data\n",
    "\n",
    "### sortBy(...) action"
   ]
  },
  {
   "cell_type": "code",
   "execution_count": 132,
   "metadata": {},
   "outputs": [
    {
     "name": "stdout",
     "output_type": "stream",
     "text": [
      "('Jardine', '2017-12', 'Central', 1879.06)\n",
      "('Parent', '2016-07', 'East', 1619.19)\n",
      "('Smith', '2017-02', 'Central', 1305.0)\n",
      "('Parent', '2016-12', 'East', 1183.26)\n",
      "('Thompson', '2017-10', 'West', 1139.43)"
     ]
    }
   ],
   "source": [
    "for element in rdd_clean \\\n",
    "    .map(lambda el: (el[2], el[0].strftime('%Y-%m'), el[1], el[-1])) \\\n",
    "    .sortBy(lambda el: el[-1], ascending = False) \\\n",
    "    .take(5):\n",
    "        print(element)\n",
    "    "
   ]
  },
  {
   "cell_type": "markdown",
   "metadata": {},
   "source": [
    "### sortByKey(...) action"
   ]
  },
  {
   "cell_type": "code",
   "execution_count": 134,
   "metadata": {},
   "outputs": [
    {
     "name": "stdout",
     "output_type": "stream",
     "text": [
      "(1879.06, ('Jardine', '2017-12', 'Central'))\n",
      "(1619.19, ('Parent', '2016-07', 'East'))\n",
      "(1305.0, ('Smith', '2017-02', 'Central'))\n",
      "(1183.26, ('Parent', '2016-12', 'East'))\n",
      "(1139.43, ('Thompson', '2017-10', 'West'))"
     ]
    }
   ],
   "source": [
    "for element in rdd_clean \\\n",
    "    .map(lambda el: (el[-1], (el[2], el[0].strftime('%Y-%m'), el[1]))) \\\n",
    "    .sortByKey(ascending = False) \\\n",
    "    .take(5):\n",
    "        print(element)"
   ]
  },
  {
   "cell_type": "markdown",
   "metadata": {},
   "source": [
    "## Saving data\n",
    "\n",
    "### .saveAsTextFile(...) action"
   ]
  },
  {
   "cell_type": "code",
   "execution_count": 145,
   "metadata": {
    "collapsed": true
   },
   "outputs": [],
   "source": [
    "%%sh\n",
    "rm -rf ../data/sample_data_cleaned.csv"
   ]
  },
  {
   "cell_type": "code",
   "execution_count": 135,
   "metadata": {
    "collapsed": true
   },
   "outputs": [],
   "source": [
    "rdd_clean.saveAsTextFile('../data/sample_data_cleaned.csv')"
   ]
  },
  {
   "cell_type": "code",
   "execution_count": 141,
   "metadata": {},
   "outputs": [
    {
     "name": "stdout",
     "output_type": "stream",
     "text": [
      "total 8\n",
      "drwxr-xr-x   4 drabast  staff   128 Dec 28 22:23 .\n",
      "drwxr-xr-x  12 drabast  staff   384 Dec 15 00:00 ..\n",
      "-rw-r--r--@  1 drabast  staff  1927 Dec 15 21:56 sample_data.csv\n",
      "drwxr-xr-x  12 drabast  staff   384 Dec 28 22:23 sample_data_cleaned.csv\n"
     ]
    }
   ],
   "source": [
    "%%sh\n",
    "ls -la ../data"
   ]
  },
  {
   "cell_type": "code",
   "execution_count": 146,
   "metadata": {
    "collapsed": true
   },
   "outputs": [],
   "source": [
    "%%sh\n",
    "rm -rf ../data/sample_data_cleaned_gzipped.csv"
   ]
  },
  {
   "cell_type": "code",
   "execution_count": 147,
   "metadata": {},
   "outputs": [],
   "source": [
    "rdd_clean.saveAsTextFile(\n",
    "    '../data/sample_data_cleaned_gzipped.csv',\n",
    "    'org.apache.hadoop.io.compress.GzipCodec'\n",
    ")"
   ]
  },
  {
   "cell_type": "code",
   "execution_count": 148,
   "metadata": {},
   "outputs": [
    {
     "name": "stdout",
     "output_type": "stream",
     "text": [
      "total 72\n",
      "drwxr-xr-x  12 drabast  staff  384 Dec 28 22:29 .\n",
      "drwxr-xr-x   4 drabast  staff  128 Dec 28 22:29 ..\n",
      "-rw-r--r--   1 drabast  staff    8 Dec 28 22:29 ._SUCCESS.crc\n",
      "-rw-r--r--   1 drabast  staff   12 Dec 28 22:29 .part-00000.gz.crc\n",
      "-rw-r--r--   1 drabast  staff   12 Dec 28 22:29 .part-00001.gz.crc\n",
      "-rw-r--r--   1 drabast  staff   12 Dec 28 22:29 .part-00002.gz.crc\n",
      "-rw-r--r--   1 drabast  staff   12 Dec 28 22:29 .part-00003.gz.crc\n",
      "-rw-r--r--   1 drabast  staff    0 Dec 28 22:29 _SUCCESS\n",
      "-rw-r--r--   1 drabast  staff  266 Dec 28 22:29 part-00000.gz\n",
      "-rw-r--r--   1 drabast  staff  328 Dec 28 22:29 part-00001.gz\n",
      "-rw-r--r--   1 drabast  staff  324 Dec 28 22:29 part-00002.gz\n",
      "-rw-r--r--   1 drabast  staff  311 Dec 28 22:29 part-00003.gz\n"
     ]
    }
   ],
   "source": [
    "%%sh\n",
    "ls -la ../data/sample_data_cleaned_gzipped.csv"
   ]
  },
  {
   "cell_type": "markdown",
   "metadata": {},
   "source": [
    "### .saveAsPickleFile(...) action"
   ]
  },
  {
   "cell_type": "code",
   "execution_count": 149,
   "metadata": {
    "collapsed": true
   },
   "outputs": [],
   "source": [
    "%%sh\n",
    "rm -rf ../data/sample_data_cleaned.pkl"
   ]
  },
  {
   "cell_type": "code",
   "execution_count": 150,
   "metadata": {
    "collapsed": true
   },
   "outputs": [],
   "source": [
    "rdd_clean.saveAsTextFile('../data/sample_data_cleaned.pkl')"
   ]
  },
  {
   "cell_type": "code",
   "execution_count": 153,
   "metadata": {},
   "outputs": [
    {
     "name": "stdout",
     "output_type": "stream",
     "text": [
      "total 72\n",
      "drwxr-xr-x  12 drabast  staff   384 Dec 28 22:31 .\n",
      "drwxr-xr-x   5 drabast  staff   160 Dec 28 22:31 ..\n",
      "-rw-r--r--   1 drabast  staff     8 Dec 28 22:31 ._SUCCESS.crc\n",
      "-rw-r--r--   1 drabast  staff    16 Dec 28 22:31 .part-00000.crc\n",
      "-rw-r--r--   1 drabast  staff    20 Dec 28 22:31 .part-00001.crc\n",
      "-rw-r--r--   1 drabast  staff    16 Dec 28 22:31 .part-00002.crc\n",
      "-rw-r--r--   1 drabast  staff    16 Dec 28 22:31 .part-00003.crc\n",
      "-rw-r--r--   1 drabast  staff     0 Dec 28 22:31 _SUCCESS\n",
      "-rw-r--r--   1 drabast  staff   767 Dec 28 22:31 part-00000\n",
      "-rw-r--r--   1 drabast  staff  1030 Dec 28 22:31 part-00001\n",
      "-rw-r--r--   1 drabast  staff   938 Dec 28 22:31 part-00002\n",
      "-rw-r--r--   1 drabast  staff   877 Dec 28 22:31 part-00003\n"
     ]
    }
   ],
   "source": [
    "%%sh\n",
    "ls -la ../data/sample_data_cleaned.pkl"
   ]
  },
  {
   "cell_type": "markdown",
   "metadata": {},
   "source": [
    "## Descriptive Statistics\n",
    "\n",
    "### .mean() action"
   ]
  },
  {
   "cell_type": "code",
   "execution_count": 154,
   "metadata": {},
   "outputs": [
    {
     "name": "stdout",
     "output_type": "stream",
     "text": [
      "443.53285714285715"
     ]
    }
   ],
   "source": [
    "rdd_clean \\\n",
    "    .map(lambda el: el[-1]) \\\n",
    "    .mean()"
   ]
  },
  {
   "cell_type": "markdown",
   "metadata": {},
   "source": [
    "### .stdev() action"
   ]
  },
  {
   "cell_type": "code",
   "execution_count": 155,
   "metadata": {},
   "outputs": [
    {
     "name": "stdout",
     "output_type": "stream",
     "text": [
      "438.90819278819419"
     ]
    }
   ],
   "source": [
    "rdd_clean \\\n",
    "    .map(lambda el: el[-1]) \\\n",
    "    .stdev()"
   ]
  },
  {
   "cell_type": "markdown",
   "metadata": {},
   "source": [
    "### .max() action"
   ]
  },
  {
   "cell_type": "code",
   "execution_count": 156,
   "metadata": {},
   "outputs": [
    {
     "name": "stdout",
     "output_type": "stream",
     "text": [
      "1879.06"
     ]
    }
   ],
   "source": [
    "rdd_clean \\\n",
    "    .map(lambda el: el[-1]) \\\n",
    "    .max()"
   ]
  },
  {
   "cell_type": "markdown",
   "metadata": {},
   "source": [
    "### .min() action"
   ]
  },
  {
   "cell_type": "code",
   "execution_count": 157,
   "metadata": {},
   "outputs": [
    {
     "name": "stdout",
     "output_type": "stream",
     "text": [
      "9.03"
     ]
    }
   ],
   "source": [
    "rdd_clean \\\n",
    "    .map(lambda el: el[-1]) \\\n",
    "    .min()"
   ]
  }
 ],
 "metadata": {
  "kernelspec": {
   "display_name": "PySpark",
   "language": "",
   "name": "pysparkkernel"
  },
  "language_info": {
   "codemirror_mode": {
    "name": "python",
    "version": 2
   },
   "mimetype": "text/x-python",
   "name": "pyspark",
   "pygments_lexer": "python2"
  }
 },
 "nbformat": 4,
 "nbformat_minor": 2
}
